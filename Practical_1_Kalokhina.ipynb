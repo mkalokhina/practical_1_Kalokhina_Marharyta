{
  "nbformat": 4,
  "nbformat_minor": 0,
  "metadata": {
    "colab": {
      "provenance": [],
      "authorship_tag": "ABX9TyPrvNX9YgOJwH6O/YmtwUCk",
      "include_colab_link": true
    },
    "kernelspec": {
      "name": "python3",
      "display_name": "Python 3"
    },
    "language_info": {
      "name": "python"
    }
  },
  "cells": [
    {
      "cell_type": "markdown",
      "metadata": {
        "id": "view-in-github",
        "colab_type": "text"
      },
      "source": [
        "<a href=\"https://colab.research.google.com/github/mkalokhina/practical_1_Kalokhina_Marharyta/blob/main/Practical_1_Kalokhina.ipynb\" target=\"_parent\"><img src=\"https://colab.research.google.com/assets/colab-badge.svg\" alt=\"Open In Colab\"/></a>"
      ]
    },
    {
      "cell_type": "markdown",
      "source": [
        "1. Створіть одновимірний масив (вектор) із послідовністю чисел,\n",
        "  де кожне наступне число більше попереднього на 3, починаючи з 5,\n",
        "  та виведіть його значення.)\n"
      ],
      "metadata": {
        "id": "O-K0KABn7eeT"
      }
    },
    {
      "cell_type": "code",
      "source": [
        "import numpy as np\n",
        "vector = np.arange(5, 5 + 3*10, 3)\n",
        "print(\"Vector:\", vector)"
      ],
      "metadata": {
        "colab": {
          "base_uri": "https://localhost:8080/"
        },
        "id": "FCOkwu159LVh",
        "outputId": "5996fffa-364a-41ae-d845-ca4a63a69a08"
      },
      "execution_count": 2,
      "outputs": [
        {
          "output_type": "stream",
          "name": "stdout",
          "text": [
            "Vector: [ 5  8 11 14 17 20 23 26 29 32]\n"
          ]
        }
      ]
    },
    {
      "cell_type": "markdown",
      "source": [
        "2. Створіть двовимірний масив (матрицю) розміром 3х3. заповніть його добутками квадратів кожного числа та його подвійного значення, починаючи з 1, та ниведіть його\n",
        "значення."
      ],
      "metadata": {
        "id": "ZHuFP2es9Eth"
      }
    },
    {
      "cell_type": "code",
      "source": [
        "matrix = np.array([[i**2 * (2*i) for i in range(1, 4)],\n",
        "                    [i**2 * (2*i) for i in range(4, 7)],\n",
        "                    [i**2 * (2*i) for i in range(7, 10)]])\n",
        "print(\"Matrix 3x3:\\n\", matrix)"
      ],
      "metadata": {
        "colab": {
          "base_uri": "https://localhost:8080/"
        },
        "id": "ba8K0lAt9L6v",
        "outputId": "6d4b726a-b2bf-4706-cec4-d9e4c1f450f1"
      },
      "execution_count": 3,
      "outputs": [
        {
          "output_type": "stream",
          "name": "stdout",
          "text": [
            "Matrix 3x3:\n",
            " [[   2   16   54]\n",
            " [ 128  250  432]\n",
            " [ 686 1024 1458]]\n"
          ]
        }
      ]
    },
    {
      "cell_type": "markdown",
      "source": [
        "3. Створіть масив розміром 3х3, заповнить його випадковими дійсними числами в діапазоні від -5 до 5 та виведіть його значення"
      ],
      "metadata": {
        "id": "zjivdHuJ9WWy"
      }
    },
    {
      "cell_type": "code",
      "source": [
        "matrix = np.random.uniform(-5, 5, (3, 3))\n",
        "print(\"Random Matrix 3x3:\\n\", matrix)"
      ],
      "metadata": {
        "colab": {
          "base_uri": "https://localhost:8080/"
        },
        "id": "NgLvkZc49Z6w",
        "outputId": "9581f908-dc07-4957-bd94-da745eac1f97"
      },
      "execution_count": 4,
      "outputs": [
        {
          "output_type": "stream",
          "name": "stdout",
          "text": [
            "Random Matrix 3x3:\n",
            " [[-4.93620731 -1.20975946 -2.62399558]\n",
            " [ 1.75771846 -2.28012755 -2.51746835]\n",
            " [-4.4350464   2.28872531  2.70213819]]\n"
          ]
        }
      ]
    },
    {
      "cell_type": "markdown",
      "source": [
        "4. Створіть масив розміром 4х4, заповніть його вицадковими дійсшими цислами д діапазоні від 0 до 1 та знайдіть вектор-рядок, що містить середне значения елементів\n",
        "кожного стовния матрик."
      ],
      "metadata": {
        "id": "jRbGGJ_Y9aIU"
      }
    },
    {
      "cell_type": "code",
      "source": [
        "matrix = np.random.uniform(0, 1, (4, 4))\n",
        "mean_vector = matrix.mean(axis=0)\n",
        "print(\"Matrix 4x4:\\n\", matrix)\n",
        "print(\"Mean Vector:\", mean_vector)"
      ],
      "metadata": {
        "colab": {
          "base_uri": "https://localhost:8080/"
        },
        "id": "LEiCcuak9cPR",
        "outputId": "50d2ac17-b4da-419d-cb1c-1d6951a5ad01"
      },
      "execution_count": 5,
      "outputs": [
        {
          "output_type": "stream",
          "name": "stdout",
          "text": [
            "Matrix 4x4:\n",
            " [[0.64448622 0.37566549 0.31767986 0.05564096]\n",
            " [0.86546699 0.81812476 0.61602689 0.17573477]\n",
            " [0.47843867 0.20745485 0.80369234 0.13882147]\n",
            " [0.28419207 0.37252523 0.55580906 0.45657084]]\n",
            "Mean Vector: [0.56814599 0.44344258 0.57330203 0.20669201]\n"
          ]
        }
      ]
    },
    {
      "cell_type": "markdown",
      "source": [
        "5. Створіть два одновимірних масиви розміром 7, заповніть їх випадковими дійсними числами від -2,5 до 2,5 та виконайте на них поелементі операції додавання. віднімання та множення."
      ],
      "metadata": {
        "id": "tf-PfrVv9cXP"
      }
    },
    {
      "cell_type": "code",
      "source": [
        "vector_1 = np.random.uniform(-2.5, 2.5, 7)\n",
        "vector_2 = np.random.uniform(-2.5, 2.5, 7)\n",
        "\n",
        "add_result = vector_1 + vector_2\n",
        "sub_result = vector_1 - vector_2\n",
        "mul_result = vector_1 * vector_2\n",
        "\n",
        "print(\"Addition Result:\", add_result)\n",
        "print(\"Subtraction Result:\", sub_result)\n",
        "print(\"Multiplication Result:\", mul_result)"
      ],
      "metadata": {
        "colab": {
          "base_uri": "https://localhost:8080/"
        },
        "id": "zhjDVL0-9ftH",
        "outputId": "af9322c4-178c-4be9-f195-e345dc8cd109"
      },
      "execution_count": 6,
      "outputs": [
        {
          "output_type": "stream",
          "name": "stdout",
          "text": [
            "Addition Result: [ 0.93836867  0.80358964  2.56913514  0.45253884 -0.87179744  2.39622866\n",
            " -0.4452243 ]\n",
            "Subtraction Result: [ 1.41410716 -1.52351799  0.10180462 -2.11091671 -3.91539996 -1.30298638\n",
            "  0.5257285 ]\n",
            "Multiplication Result: [-0.27979083 -0.41883769  1.6475228  -1.06279448 -3.64258152  1.01103457\n",
            " -0.01954145]\n"
          ]
        }
      ]
    },
    {
      "cell_type": "markdown",
      "source": [
        "6. Створіть дві матриці 3к3, заповнить їх довльними шлими числами ви 1 до 50 та знайдіть їх добуток."
      ],
      "metadata": {
        "id": "jq2SQ8rj9gDY"
      }
    },
    {
      "cell_type": "code",
      "source": [
        "matrix_6_1 = np.random.randint(1, 51, (3, 3))\n",
        "matrix_6_2 = np.random.randint(1, 51, (3, 3))\n",
        "matrix_6_product = np.dot(matrix_6_1, matrix_6_2)\n",
        "\n",
        "print(\"Matrix 6_1:\\n\", matrix_6_1)\n",
        "print(\"Matrix 6_2:\\n\", matrix_6_2)\n",
        "print(\"Matrix Product:\\n\", matrix_6_product)"
      ],
      "metadata": {
        "colab": {
          "base_uri": "https://localhost:8080/"
        },
        "id": "MuOOk-5F9iS9",
        "outputId": "630266d2-f326-4f9b-b575-83a54b0ffa11"
      },
      "execution_count": 7,
      "outputs": [
        {
          "output_type": "stream",
          "name": "stdout",
          "text": [
            "Matrix 6_1:\n",
            " [[15  3 15]\n",
            " [ 9 49 49]\n",
            " [25 36  8]]\n",
            "Matrix 6_2:\n",
            " [[ 4 33 28]\n",
            " [31 12 14]\n",
            " [43  1  4]]\n",
            "Matrix Product:\n",
            " [[ 798  546  522]\n",
            " [3662  934 1134]\n",
            " [1560 1265 1236]]\n"
          ]
        }
      ]
    },
    {
      "cell_type": "markdown",
      "source": [
        "7. Створіть дві матриці розміром 4×2 та 2х2. заповніть іх винадковими цілими числами в діапазоні від 1 до 6 та перемножте їх мі собою."
      ],
      "metadata": {
        "id": "mika1UOG9ibq"
      }
    },
    {
      "cell_type": "code",
      "source": [
        "matrix_1 = np.random.randint(1, 7, (4, 2))\n",
        "matrix_2 = np.random.randint(1, 7, (2, 2))\n",
        "matrix_product = np.dot(matrix_1, matrix_2)\n",
        "\n",
        "print(\"\\nMatrix 1:\\n\", matrix_1)\n",
        "print(\"Matrix 2:\\n\", matrix_2)\n",
        "print(\"Matrix Product:\\n\", matrix_product)\n"
      ],
      "metadata": {
        "colab": {
          "base_uri": "https://localhost:8080/"
        },
        "id": "UOWiO-df9kvt",
        "outputId": "15c538a3-8199-4dc3-cc83-192424d4709a"
      },
      "execution_count": 8,
      "outputs": [
        {
          "output_type": "stream",
          "name": "stdout",
          "text": [
            "\n",
            "Matrix 1:\n",
            " [[4 4]\n",
            " [2 2]\n",
            " [6 6]\n",
            " [3 1]]\n",
            "Matrix 2:\n",
            " [[5 4]\n",
            " [2 3]]\n",
            "Matrix Product:\n",
            " [[28 28]\n",
            " [14 14]\n",
            " [42 42]\n",
            " [17 15]]\n"
          ]
        }
      ]
    },
    {
      "cell_type": "markdown",
      "source": [
        "8. Створіть матрицю розміром 2х2, заповнить ті випадковими шлими числами в діапазоні від 1 до 12 та знайдіть ії оберисну матришю."
      ],
      "metadata": {
        "id": "zop4q2PZ9k7Z"
      }
    },
    {
      "cell_type": "code",
      "source": [
        "matrix = np.random.randint(1, 13, (2, 2))\n",
        "matrix_inverse = np.linalg.inv(matrix)\n",
        "print(\"\\nMatrix:\\n\", matrix)\n",
        "print(\"Inverse Matrix:\\n\", matrix_inverse)"
      ],
      "metadata": {
        "colab": {
          "base_uri": "https://localhost:8080/"
        },
        "id": "wIcEgjUy9m00",
        "outputId": "4c2f98ce-285b-4f75-84ea-be8a4d5a3387"
      },
      "execution_count": 9,
      "outputs": [
        {
          "output_type": "stream",
          "name": "stdout",
          "text": [
            "\n",
            "Matrix:\n",
            " [[ 8  8]\n",
            " [ 4 12]]\n",
            "Inverse Matrix:\n",
            " [[ 0.1875 -0.125 ]\n",
            " [-0.0625  0.125 ]]\n"
          ]
        }
      ]
    },
    {
      "cell_type": "markdown",
      "source": [
        "9. Створить матрицю розміром 3х3, заповніть 17 випадковими телими числами в дапазоні вд. 0 до 1 та трансповуйте ті."
      ],
      "metadata": {
        "id": "qhbUQ_Ie9m-B"
      }
    },
    {
      "cell_type": "code",
      "source": [
        "matrix = np.random.uniform(0, 1, (3, 3))\n",
        "matrix_transposed = matrix.T\n",
        "\n",
        "print(\"\\nMatrix:\\n\", matrix)\n",
        "print(\"Transposed Matrix:\\n\", matrix_transposed)"
      ],
      "metadata": {
        "colab": {
          "base_uri": "https://localhost:8080/"
        },
        "id": "LxzdND8J9pzC",
        "outputId": "8f55cc8b-e46f-4a24-9d42-69493c625db9"
      },
      "execution_count": 10,
      "outputs": [
        {
          "output_type": "stream",
          "name": "stdout",
          "text": [
            "\n",
            "Matrix:\n",
            " [[0.57925579 0.48925096 0.29059033]\n",
            " [0.01102539 0.62625517 0.58971677]\n",
            " [0.17054306 0.80708883 0.19402045]]\n",
            "Transposed Matrix:\n",
            " [[0.57925579 0.01102539 0.17054306]\n",
            " [0.48925096 0.62625517 0.80708883]\n",
            " [0.29059033 0.58971677 0.19402045]]\n"
          ]
        }
      ]
    },
    {
      "cell_type": "markdown",
      "source": [
        "10. Створіть матришю розміром 34 та вектор розміром 4х1, заповніть матрицю випадковими цілими числами в діапазоні від -5 до 5, а вектор - випадковими цілими числами в діапазоні від І до 10, і знайдіть добуток матриці на вектор."
      ],
      "metadata": {
        "id": "IfBLpXN19p93"
      }
    },
    {
      "cell_type": "code",
      "source": [
        "matrix = np.random.randint(-5, 6, (4, 4))\n",
        "vector = np.random.randint(1, 11, (4, 1))\n",
        "matrix_product = np.dot(matrix, vector)\n",
        "\n",
        "print(\"\\nMatrix:\\n\", matrix)\n",
        "print(\"Vector:\\n\", vector)\n",
        "print(\"Matrix-Vector Product:\\n\", matrix_product)"
      ],
      "metadata": {
        "colab": {
          "base_uri": "https://localhost:8080/"
        },
        "id": "tW7vHFTS9sXp",
        "outputId": "596bac0b-a52c-41f4-f5ee-d19470bc86b7"
      },
      "execution_count": 11,
      "outputs": [
        {
          "output_type": "stream",
          "name": "stdout",
          "text": [
            "\n",
            "Matrix:\n",
            " [[ 4 -3  5  3]\n",
            " [ 0 -1 -4  3]\n",
            " [-1 -4 -5  1]\n",
            " [-4  2  3 -2]]\n",
            "Vector:\n",
            " [[9]\n",
            " [7]\n",
            " [7]\n",
            " [1]]\n",
            "Matrix-Vector Product:\n",
            " [[ 53]\n",
            " [-32]\n",
            " [-71]\n",
            " [ -3]]\n"
          ]
        }
      ]
    },
    {
      "cell_type": "markdown",
      "source": [
        "11. Створіть матришю розміром 2х3 та вектор розміром 3х1, заповніть матрицю вишанковими дійспими числами від 0 до 1, а вектор - випадковими цілими числами в діапазоні від І до 10, і знайдіть добуток матриці на вектор."
      ],
      "metadata": {
        "id": "KgfKi6wT9sfu"
      }
    },
    {
      "cell_type": "code",
      "source": [
        "matrix = np.random.uniform(0, 1, (2, 3))\n",
        "vector = np.random.randint(1, 11, (3, 1))\n",
        "matrix_product = np.dot(matrix, vector)\n",
        "\n",
        "print(\"\\nMatrix:\\n\", matrix)\n",
        "print(\"Vector:\\n\", vector)\n",
        "print(\"Matrix-Vector Product:\\n\", matrix_product)"
      ],
      "metadata": {
        "colab": {
          "base_uri": "https://localhost:8080/"
        },
        "id": "s_czltiU9uS1",
        "outputId": "c31f2147-26d5-4c42-9668-16e09b8bcf49"
      },
      "execution_count": 12,
      "outputs": [
        {
          "output_type": "stream",
          "name": "stdout",
          "text": [
            "\n",
            "Matrix:\n",
            " [[0.85164061 0.01403608 0.57019586]\n",
            " [0.55680396 0.24022438 0.68701483]]\n",
            "Vector:\n",
            " [[2]\n",
            " [1]\n",
            " [1]]\n",
            "Matrix-Vector Product:\n",
            " [[2.28751315]\n",
            " [2.04084715]]\n"
          ]
        }
      ]
    },
    {
      "cell_type": "markdown",
      "source": [
        "12. Створіть дві матриці розміром 8х8, заповніть їх випадковими цілими чиелами в діапазоші від 1 до 10 та знайціть іхо суму."
      ],
      "metadata": {
        "id": "Ok7Qb9J59udj"
      }
    },
    {
      "cell_type": "code",
      "source": [
        "matrix_1 = np.random.randint(1, 11, (8, 8))\n",
        "matrix_2 = np.random.randint(1, 11, (8, 8))\n",
        "matrix_sum = matrix_1 + matrix_2\n",
        "\n",
        "print(\"Matrix 1:\\n\", matrix_1)\n",
        "print(\"Matrix 2:\\n\", matrix_2)\n",
        "print(\"Matrix Sum:\\n\", matrix_sum)"
      ],
      "metadata": {
        "colab": {
          "base_uri": "https://localhost:8080/"
        },
        "id": "2Ca2p3zv9wPV",
        "outputId": "2a5b0774-460f-4fef-9727-8f47288b09bb"
      },
      "execution_count": 13,
      "outputs": [
        {
          "output_type": "stream",
          "name": "stdout",
          "text": [
            "Matrix 1:\n",
            " [[ 1  2  9  8 10  5  5  9]\n",
            " [ 4  1  1  9  7  4  8 10]\n",
            " [ 1  1  5  4  5  3 10  7]\n",
            " [ 2  5  7  5  7  5  4  5]\n",
            " [ 4  3  2  6  5  3  9  2]\n",
            " [10 10  2  3  9 10  3  6]\n",
            " [ 8  4  1  8  7 10  7  7]\n",
            " [ 1  4  5  3  8  3  3  5]]\n",
            "Matrix 2:\n",
            " [[ 7  4  7  9 10  4  5  1]\n",
            " [ 8 10  1  5  6  8  2  8]\n",
            " [ 6  9  6  1  2  6  8  4]\n",
            " [ 1  2  4  8  7  8  1  7]\n",
            " [ 6  2  6  5  4 10  7  5]\n",
            " [ 2  2  4  2  9  7  1  7]\n",
            " [ 4  1  1  1 10  9  2  2]\n",
            " [ 3  9  4  9  2  4  2  4]]\n",
            "Matrix Sum:\n",
            " [[ 8  6 16 17 20  9 10 10]\n",
            " [12 11  2 14 13 12 10 18]\n",
            " [ 7 10 11  5  7  9 18 11]\n",
            " [ 3  7 11 13 14 13  5 12]\n",
            " [10  5  8 11  9 13 16  7]\n",
            " [12 12  6  5 18 17  4 13]\n",
            " [12  5  2  9 17 19  9  9]\n",
            " [ 4 13  9 12 10  7  5  9]]\n"
          ]
        }
      ]
    },
    {
      "cell_type": "markdown",
      "source": [
        "13. Створіть дві матриці розміром 8х8, заповніть їх випадковими дійсними числами в діапазоні від - 1 до 1 та знайдіть різницю їх слементів."
      ],
      "metadata": {
        "id": "FpQwpw949wW9"
      }
    },
    {
      "cell_type": "code",
      "source": [
        "matrix_1 = np.random.uniform(-1, 1, (8, 8))\n",
        "matrix_2 = np.random.uniform(-1, 1, (8, 8))\n",
        "matrix_diff = matrix_1 - matrix_2\n",
        "\n",
        "print(\"Matrix 1:\\n\", matrix_1)\n",
        "print(\"Matrix 2:\\n\", matrix_2)\n",
        "print(\"Matrix Difference:\\n\", matrix_diff)"
      ],
      "metadata": {
        "colab": {
          "base_uri": "https://localhost:8080/"
        },
        "id": "dnpyjUo59yFm",
        "outputId": "1ccb455f-d928-451f-aa94-94dab228b595"
      },
      "execution_count": 15,
      "outputs": [
        {
          "output_type": "stream",
          "name": "stdout",
          "text": [
            "Matrix 1:\n",
            " [[-0.43382537  0.19549072 -0.78350846 -0.19900598 -0.48547573 -0.08720522\n",
            "   0.82092528  0.65160777]\n",
            " [-0.35241051 -0.24870584 -0.49182201  0.65171509  0.58641951 -0.25698164\n",
            "  -0.1357755  -0.01666104]\n",
            " [-0.35404758  0.29102195 -0.76087757 -0.54093716 -0.28526674 -0.86479133\n",
            "   0.5433356  -0.99139761]\n",
            " [-0.01867216 -0.85094256 -0.10900043  0.1081812  -0.14574534  0.81427962\n",
            "  -0.61432687  0.28402697]\n",
            " [ 0.95153871 -0.89988332 -0.73785339 -0.06198065  0.31607545 -0.40265282\n",
            "   0.47831009  0.85856688]\n",
            " [ 0.78064036 -0.79201069 -0.24165716 -0.78659741 -0.41768786 -0.45973124\n",
            "  -0.56538825 -0.71503397]\n",
            " [-0.85474122  0.84736009 -0.8920523  -0.48435872  0.17857483 -0.407788\n",
            "   0.98491894 -0.98006146]\n",
            " [ 0.6589158  -0.17100211 -0.15704083 -0.38092167  0.33264632 -0.51546064\n",
            "  -0.54974707  0.45090948]]\n",
            "Matrix 2:\n",
            " [[-0.24863421  0.43401075  0.8133156   0.5700985  -0.12326843 -0.93331958\n",
            "  -0.40839177 -0.69570566]\n",
            " [-0.02139428  0.04682583 -0.25155933 -0.41905767 -0.70153729 -0.18293221\n",
            "   0.56693656 -0.91405141]\n",
            " [ 0.09102411  0.24552145 -0.58732233  0.34756483 -0.54965162  0.65530309\n",
            "  -0.53880196  0.45949961]\n",
            " [ 0.4786527   0.20635425 -0.73228699  0.69053844 -0.88012452  0.75710988\n",
            "  -0.5327987   0.44754186]\n",
            " [ 0.98136969 -0.42628841  0.14777923  0.3144464  -0.92245432 -0.83815358\n",
            "  -0.36974889 -0.73369526]\n",
            " [ 0.39628058 -0.88641255  0.1086005   0.23953813  0.10961077  0.57708062\n",
            "   0.10395394 -0.36423031]\n",
            " [ 0.96908738  0.53006772  0.51205282  0.59436433 -0.9174984   0.75962885\n",
            "  -0.49991691 -0.6935079 ]\n",
            " [ 0.13670906 -0.34255343 -0.35199171 -0.15454947  0.9724007  -0.42452983\n",
            "  -0.60374122 -0.91464142]]\n",
            "Matrix Difference:\n",
            " [[-0.18519116 -0.23852003 -1.59682406 -0.76910448 -0.3622073   0.84611435\n",
            "   1.22931706  1.34731343]\n",
            " [-0.33101624 -0.29553167 -0.24026267  1.07077276  1.2879568  -0.07404943\n",
            "  -0.70271206  0.89739036]\n",
            " [-0.44507169  0.0455005  -0.17355525 -0.88850199  0.26438488 -1.52009442\n",
            "   1.08213756 -1.45089722]\n",
            " [-0.49732487 -1.05729681  0.62328656 -0.58235723  0.73437919  0.05716974\n",
            "  -0.08152817 -0.16351489]\n",
            " [-0.02983098 -0.47359491 -0.88563262 -0.37642704  1.23852978  0.43550076\n",
            "   0.84805898  1.59226213]\n",
            " [ 0.38435977  0.09440186 -0.35025765 -1.02613554 -0.52729863 -1.03681186\n",
            "  -0.66934218 -0.35080366]\n",
            " [-1.8238286   0.31729237 -1.40410512 -1.07872306  1.09607324 -1.16741685\n",
            "   1.48483585 -0.28655356]\n",
            " [ 0.52220673  0.17155131  0.19495088 -0.22637221 -0.63975438 -0.09093081\n",
            "   0.05399415  1.36555091]]\n"
          ]
        }
      ]
    },
    {
      "cell_type": "markdown",
      "source": [
        "14. Створіть матрицю розміром 5х5, заповніть п випадковими йоними числами в діапазоні віл 0 ло 1 та знайдіть середне арифметичие значення елементів матриці."
      ],
      "metadata": {
        "id": "QvGLhyhI9yNz"
      }
    },
    {
      "cell_type": "code",
      "source": [
        "matrix = np.random.uniform(0, 1, (5, 5))\n",
        "matrix_mean = matrix.mean()\n",
        "print(\"Matrix:\\n\", matrix)\n",
        "print(\"Mean Value:\", matrix_mean)"
      ],
      "metadata": {
        "colab": {
          "base_uri": "https://localhost:8080/"
        },
        "id": "L4e-HaI790Fk",
        "outputId": "c08f8e42-75f1-4c65-a6a8-3ff5aa53a5cc"
      },
      "execution_count": 16,
      "outputs": [
        {
          "output_type": "stream",
          "name": "stdout",
          "text": [
            "Matrix:\n",
            " [[0.12626525 0.21298703 0.72473915 0.63099289 0.70529   ]\n",
            " [0.63082963 0.64503523 0.11862194 0.58026443 0.46548102]\n",
            " [0.74277029 0.77557459 0.71356212 0.54548765 0.44549687]\n",
            " [0.00328866 0.65050149 0.06190047 0.08145493 0.56125654]\n",
            " [0.63751235 0.90917885 0.81790529 0.18710622 0.8346357 ]]\n",
            "Mean Value: 0.512325542942287\n"
          ]
        }
      ]
    },
    {
      "cell_type": "markdown",
      "source": [
        "15. Створіть матрицю розміром 9×9, заповніть її випадковими дайсними числами в діапазоні від -0.5 до 0.5 та знайдіть вектор-стовичик, що містить найбільше за модудем значения елементу у кожному рядку магриці."
      ],
      "metadata": {
        "id": "8RspTaSN90PL"
      }
    },
    {
      "cell_type": "code",
      "source": [
        "matrix = np.random.uniform(-0.5, 0.5, (9, 9))\n",
        "max_abs_vector = np.max(np.abs(matrix), axis=1)\n",
        "\n",
        "print(\"Matrix:\\n\", matrix)\n",
        "print(\"Max Absolute Value Vector:\\n\", max_abs_vector)"
      ],
      "metadata": {
        "colab": {
          "base_uri": "https://localhost:8080/"
        },
        "id": "8uuQ_SYM918M",
        "outputId": "98225c2d-ea97-4ac8-9798-4a9ec91cab26"
      },
      "execution_count": 17,
      "outputs": [
        {
          "output_type": "stream",
          "name": "stdout",
          "text": [
            "Matrix:\n",
            " [[ 0.22994312 -0.12701592 -0.20896476 -0.11346567 -0.3496872   0.11069309\n",
            "   0.01392498 -0.33919922  0.17462326]\n",
            " [ 0.26602434  0.34407898  0.45507445  0.25018176 -0.36002838 -0.26993047\n",
            "  -0.26912526  0.46763626 -0.25988079]\n",
            " [ 0.1110854   0.05382739 -0.15945587  0.3545335   0.46533578 -0.46371218\n",
            "   0.3802034   0.16368472 -0.49601861]\n",
            " [-0.14363505  0.08493219 -0.47134216  0.40484063  0.09819881 -0.43456339\n",
            "  -0.05211423  0.26533157  0.26739507]\n",
            " [-0.27601568  0.35385123 -0.26093191 -0.02588694 -0.26338062 -0.00622184\n",
            "  -0.41829525  0.04438072  0.26256945]\n",
            " [-0.41154499 -0.41232189  0.05970595  0.45688379  0.36177056  0.49398805\n",
            "  -0.21961029  0.24048065  0.01724625]\n",
            " [ 0.2025734   0.24352259  0.18203551 -0.0145797  -0.04005629 -0.11610164\n",
            "   0.34408786 -0.18074984  0.42599275]\n",
            " [ 0.47314616  0.35250307  0.31621479 -0.31469813  0.21995547  0.46632121\n",
            "   0.26097139  0.49344814  0.18223171]\n",
            " [-0.35898064  0.30559031 -0.01907643  0.04628461 -0.28269045 -0.24271641\n",
            "  -0.452943   -0.0788602   0.13770645]]\n",
            "Max Absolute Value Vector:\n",
            " [0.3496872  0.46763626 0.49601861 0.47134216 0.41829525 0.49398805\n",
            " 0.42599275 0.49344814 0.452943  ]\n"
          ]
        }
      ]
    },
    {
      "cell_type": "markdown",
      "source": [
        "Виконані завдання продемонстрували, як багатогранні можливості бібліотеки NumPy дозволяють ефективно вирішувати різні математичні\n",
        "й аналітичні задачі. Операції з матрицями й векторами, випадкові значення та обчислення статистичних характеристик дали змогу на практиці відчути,\n",
        "наскільки гнучкою і потужною є ця бібліотека для моделювання складних систем. Це підкреслює важливість вміння працювати з масивами даних,\n",
        "адже в реальних задачах часто виникає необхідність обробки великих обсягів інформації через подібні математичні операції.\n"
      ],
      "metadata": {
        "id": "Fw6Yt5Ql-Vvz"
      }
    }
  ]
}